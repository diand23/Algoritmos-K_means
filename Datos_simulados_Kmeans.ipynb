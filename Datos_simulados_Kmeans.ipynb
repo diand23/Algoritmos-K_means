{
  "cells": [
    {
      "cell_type": "markdown",
      "metadata": {
        "id": "04Qf9XJBO9lr"
      },
      "source": [
        "# Práctica 5:\n",
        "En el siguiente notebook vamos a trabajar con PySpark. En él, vamos a usar las sentencias necesarias para obtener una muestra de un conjunto de datos.\n",
        "\n",
        "El primer paso que debemos dar es conectar Google Colab con nuestro Google Drive. Para ello, lanzaremos el siguiente trozo de código."
      ]
    },
    {
      "cell_type": "code",
      "execution_count": null,
      "metadata": {
        "colab": {
          "base_uri": "https://localhost:8080/"
        },
        "id": "m-I8PEIaPka_",
        "outputId": "bfa24ca2-f0f7-46eb-d9b5-49411bd8b82c"
      },
      "outputs": [
        {
          "output_type": "stream",
          "name": "stdout",
          "text": [
            "Mounted at /content/drive\n"
          ]
        }
      ],
      "source": [
        "from google.colab import drive\n",
        "drive.mount('/content/drive')"
      ]
    },
    {
      "cell_type": "code",
      "execution_count": null,
      "metadata": {
        "colab": {
          "base_uri": "https://localhost:8080/"
        },
        "id": "adO-ZrkjP2UB",
        "outputId": "70e05a83-0b37-49c4-f726-c06c8e3719d0"
      },
      "outputs": [
        {
          "output_type": "stream",
          "name": "stdout",
          "text": [
            "drive  sample_data\n"
          ]
        }
      ],
      "source": [
        "!ls"
      ]
    },
    {
      "cell_type": "markdown",
      "metadata": {
        "id": "XjeQ_x6gRupG"
      },
      "source": [
        "Una vez hemos conectado Google Drive, pasamos a instalar Apache Spark en nuestro notebook. En concreto, vamos a trabajar con la versión 3.4.4."
      ]
    },
    {
      "cell_type": "code",
      "execution_count": null,
      "metadata": {
        "id": "hTwMce99PF7f"
      },
      "outputs": [],
      "source": [
        "!apt-get install openjdk-8-jdk-headless -qq > /dev/null"
      ]
    },
    {
      "cell_type": "code",
      "execution_count": null,
      "metadata": {
        "id": "31EeEgyzPPWu",
        "colab": {
          "base_uri": "https://localhost:8080/"
        },
        "outputId": "589502b4-32e5-49d0-ca7c-2b819fef31f7"
      },
      "outputs": [
        {
          "output_type": "stream",
          "name": "stdout",
          "text": [
            "spark-3.5.4-bin-had 100%[===================>] 382.31M   209MB/s    in 1.8s    \n"
          ]
        }
      ],
      "source": [
        "!wget -q --show-progress https://dlcdn.apache.org/spark/spark-3.5.4/spark-3.5.4-bin-hadoop3.tgz"
      ]
    },
    {
      "cell_type": "code",
      "execution_count": null,
      "metadata": {
        "colab": {
          "base_uri": "https://localhost:8080/"
        },
        "id": "j8a4Ey_cPx42",
        "outputId": "66524d74-a280-4623-eb93-c200036d7fef"
      },
      "outputs": [
        {
          "output_type": "stream",
          "name": "stdout",
          "text": [
            "drive  sample_data  spark-3.5.4-bin-hadoop3.tgz\n"
          ]
        }
      ],
      "source": [
        "!ls\n"
      ]
    },
    {
      "cell_type": "code",
      "execution_count": null,
      "metadata": {
        "id": "9ynU6UiKPTUj"
      },
      "outputs": [],
      "source": [
        "!tar xf  spark-3.5.4-bin-hadoop3.tgz"
      ]
    },
    {
      "cell_type": "markdown",
      "metadata": {
        "id": "XDn17mDTSCJH"
      },
      "source": [
        "Además de la instalación habitual, hay un paso más que debemos dar, y es la instalación de la librería *findspark*. Esta librería nos permitirá encontrar la instalación de Apache Spark en nuestro sistema.\n",
        "\n",
        "Establecemos también un par de variables de entorno."
      ]
    },
    {
      "cell_type": "code",
      "execution_count": null,
      "metadata": {
        "id": "Xv3SGzUEPVYo",
        "colab": {
          "base_uri": "https://localhost:8080/"
        },
        "outputId": "24d05409-650a-49f5-d9cf-7ba572284928"
      },
      "outputs": [
        {
          "output_type": "stream",
          "name": "stdout",
          "text": [
            "Name: findspark\n",
            "Version: 2.0.1\n",
            "Summary: Find pyspark to make it importable.\n",
            "Home-page: https://github.com/minrk/findspark\n",
            "Author: Min RK\n",
            "Author-email: benjaminrk@gmail.com\n",
            "License: BSD (3-clause)\n",
            "Location: /usr/local/lib/python3.11/dist-packages\n",
            "Requires: \n",
            "Required-by: \n"
          ]
        }
      ],
      "source": [
        "!pip install -q findspark\n",
        "!pip show findspark"
      ]
    },
    {
      "cell_type": "code",
      "execution_count": null,
      "metadata": {
        "id": "XMT8urIfPXc-"
      },
      "outputs": [],
      "source": [
        "import os\n",
        "os.environ[\"JAVA_HOME\"] = \"/usr/lib/jvm/java-8-openjdk-amd64\"\n",
        "os.environ[\"SPARK_HOME\"] = \"/content/spark-3.5.4-bin-hadoop3\""
      ]
    },
    {
      "cell_type": "code",
      "execution_count": null,
      "metadata": {
        "id": "Psffd2cCPZ1o"
      },
      "outputs": [],
      "source": [
        "import findspark\n",
        "findspark.init()"
      ]
    },
    {
      "cell_type": "code",
      "execution_count": null,
      "metadata": {
        "colab": {
          "base_uri": "https://localhost:8080/",
          "height": 36
        },
        "id": "1SHQdaHcPbsp",
        "outputId": "4e1483cf-f661-48fc-de47-8a214e035d75"
      },
      "outputs": [
        {
          "output_type": "execute_result",
          "data": {
            "text/plain": [
              "'/content/spark-3.5.4-bin-hadoop3'"
            ],
            "application/vnd.google.colaboratory.intrinsic+json": {
              "type": "string"
            }
          },
          "metadata": {},
          "execution_count": 10
        }
      ],
      "source": [
        "findspark.find()"
      ]
    },
    {
      "cell_type": "markdown",
      "metadata": {
        "id": "so50jP8OSfcK"
      },
      "source": [
        "Una vez tenemos instalado nuestro framework, es momento de crear nuestra variable SparkSession, de la cual parten la mayoría de funcionalidades de SparkSQL"
      ]
    },
    {
      "cell_type": "code",
      "execution_count": null,
      "metadata": {
        "id": "HUP_YOo_Q0oJ"
      },
      "outputs": [],
      "source": [
        "from pyspark.sql import SparkSession\n",
        "\n",
        "spark = SparkSession.builder\\\n",
        "        .master(\"local\")\\\n",
        "        .appName(\"Pyspark_SQL\")\\\n",
        "        .config('spark.ui.port', '4050')\\\n",
        "        .getOrCreate()"
      ]
    },
    {
      "cell_type": "code",
      "execution_count": null,
      "metadata": {
        "colab": {
          "base_uri": "https://localhost:8080/",
          "height": 219
        },
        "id": "RM4OjouAQuo3",
        "outputId": "d6718401-69a8-49e0-ef5d-82b9c78439f7"
      },
      "outputs": [
        {
          "output_type": "execute_result",
          "data": {
            "text/plain": [
              "<pyspark.sql.session.SparkSession at 0x7b7bd5043610>"
            ],
            "text/html": [
              "\n",
              "            <div>\n",
              "                <p><b>SparkSession - in-memory</b></p>\n",
              "                \n",
              "        <div>\n",
              "            <p><b>SparkContext</b></p>\n",
              "\n",
              "            <p><a href=\"http://f3f12996baf0:4050\">Spark UI</a></p>\n",
              "\n",
              "            <dl>\n",
              "              <dt>Version</dt>\n",
              "                <dd><code>v3.5.4</code></dd>\n",
              "              <dt>Master</dt>\n",
              "                <dd><code>local</code></dd>\n",
              "              <dt>AppName</dt>\n",
              "                <dd><code>Pyspark_SQL</code></dd>\n",
              "            </dl>\n",
              "        </div>\n",
              "        \n",
              "            </div>\n",
              "        "
            ]
          },
          "metadata": {},
          "execution_count": 12
        }
      ],
      "source": [
        "spark"
      ]
    },
    {
      "cell_type": "markdown",
      "metadata": {
        "id": "0ChBZ-lvGlgW"
      },
      "source": [
        "Además de la instalación habitual, hay un paso más que debemos dar, y es la instalación de la librería *findspark*. Esta librería nos permitirá encontrar la instalación de Apache Spark en nuestro sistema.\n",
        "\n",
        "Establecemos también un par de variables de entorno."
      ]
    },
    {
      "cell_type": "markdown",
      "metadata": {
        "id": "x8blXqMBGlgX"
      },
      "source": [
        "Una vez tenemos instalado nuestro framework, es momento de crear nuestra variable SparkSession, de la cual parten la mayoría de funcionalidades de SparkSQL"
      ]
    },
    {
      "cell_type": "markdown",
      "metadata": {
        "id": "kjpR1WzrUQFy"
      },
      "source": [
        "### Lectura de datos"
      ]
    },
    {
      "cell_type": "markdown",
      "metadata": {
        "id": "sQQ0T_fLUAak"
      },
      "source": [
        "Ahora sí, podemos comenzar a trabajar con SparkSQL. Comenzaremos leyendo nuestro conjunto de datos, el cual contiene información de las calificaciones de alumnos en algunas materias."
      ]
    },
    {
      "cell_type": "code",
      "execution_count": null,
      "metadata": {
        "colab": {
          "base_uri": "https://localhost:8080/"
        },
        "id": "F_cUH4Dl1aMN",
        "outputId": "8e094121-4cf7-4192-8e05-8f7559eb9be1"
      },
      "outputs": [
        {
          "output_type": "stream",
          "name": "stdout",
          "text": [
            "/content\n"
          ]
        }
      ],
      "source": [
        "!pwd"
      ]
    },
    {
      "cell_type": "code",
      "execution_count": null,
      "metadata": {
        "id": "xjF_x60RXWAo",
        "colab": {
          "base_uri": "https://localhost:8080/"
        },
        "outputId": "3ef14376-a058-4102-f81f-88faa4e1dded"
      },
      "outputs": [
        {
          "output_type": "stream",
          "name": "stdout",
          "text": [
            "Tipos de datos antes de la conversión:\n",
            "ID_Estudiante                         int64\n",
            "Conexiones_Semanales                float64\n",
            "Tareas_Entregadas                     int64\n",
            "Participacion_Foros                   int64\n",
            "Riesgo_Abandono_Cal                   int64\n",
            "Abandono                              int64\n",
            "Calificacion_Antes                  float64\n",
            "Calificacion_Despues                float64\n",
            "Tiempo_Respuesta_Tutor (minutos)      int64\n",
            "Microabandono                         int64\n",
            "EvoluciónDesempeño                  float64\n",
            "Motivacion_Encuesta                   int64\n",
            "Tasa_Retención_Estudiantes          float64\n",
            "Participación_Estudiante            float64\n",
            "Índice_Progreso_Curso               float64\n",
            "Evolución_desempeño                 float64\n",
            "Tiempo_Respuesta_Tutor              float64\n",
            "Tasa_Abandono                       float64\n",
            "Porcentaje_Tareas_entregadas          int64\n",
            "Porcentaje_participación_foro         int64\n",
            "Porcentaje_acceso                   float64\n",
            "Índice_participación_general        float64\n",
            "Riesgo_Microabandono                 object\n",
            "Revierte_situación                   object\n",
            "dtype: object\n",
            "Tipos de datos después de la conversión:\n",
            "ID_Estudiante                          int8\n",
            "Conexiones_Semanales                float64\n",
            "Tareas_Entregadas                      int8\n",
            "Participacion_Foros                    int8\n",
            "Riesgo_Abandono_Cal                    int8\n",
            "Abandono                               int8\n",
            "Calificacion_Antes                  float64\n",
            "Calificacion_Despues                float64\n",
            "Tiempo_Respuesta_Tutor (minutos)       int8\n",
            "Microabandono                          int8\n",
            "EvoluciónDesempeño                  float64\n",
            "Motivacion_Encuesta                    int8\n",
            "Tasa_Retención_Estudiantes          float64\n",
            "Participación_Estudiante            float64\n",
            "Índice_Progreso_Curso               float64\n",
            "Evolución_desempeño                 float64\n",
            "Tiempo_Respuesta_Tutor              float64\n",
            "Tasa_Abandono                       float64\n",
            "Porcentaje_Tareas_entregadas           int8\n",
            "Porcentaje_participación_foro          int8\n",
            "Porcentaje_acceso                   float64\n",
            "Índice_participación_general        float64\n",
            "Riesgo_Microabandono                 object\n",
            "Revierte_situación                   object\n",
            "dtype: object\n",
            "root\n",
            " |-- ID_Estudiante: long (nullable = true)\n",
            " |-- Conexiones_Semanales: double (nullable = true)\n",
            " |-- Tareas_Entregadas: long (nullable = true)\n",
            " |-- Participacion_Foros: long (nullable = true)\n",
            " |-- Riesgo_Abandono_Cal: long (nullable = true)\n",
            " |-- Abandono: long (nullable = true)\n",
            " |-- Calificacion_Antes: double (nullable = true)\n",
            " |-- Calificacion_Despues: double (nullable = true)\n",
            " |-- Tiempo_Respuesta_Tutor (minutos): long (nullable = true)\n",
            " |-- Microabandono: long (nullable = true)\n",
            " |-- EvoluciónDesempeño: double (nullable = true)\n",
            " |-- Motivacion_Encuesta: long (nullable = true)\n",
            " |-- Tasa_Retención_Estudiantes: double (nullable = true)\n",
            " |-- Participación_Estudiante: double (nullable = true)\n",
            " |-- Índice_Progreso_Curso: double (nullable = true)\n",
            " |-- Evolución_desempeño: double (nullable = true)\n",
            " |-- Tiempo_Respuesta_Tutor: double (nullable = true)\n",
            " |-- Tasa_Abandono: double (nullable = true)\n",
            " |-- Porcentaje_Tareas_entregadas: long (nullable = true)\n",
            " |-- Porcentaje_participación_foro: long (nullable = true)\n",
            " |-- Porcentaje_acceso: double (nullable = true)\n",
            " |-- Índice_participación_general: double (nullable = true)\n",
            " |-- Riesgo_Microabandono: string (nullable = true)\n",
            " |-- Revierte_situación: string (nullable = true)\n",
            "\n",
            "+-------------+--------------------+-----------------+-------------------+-------------------+--------+------------------+--------------------+--------------------------------+-------------+------------------+-------------------+--------------------------+------------------------+---------------------+-------------------+----------------------+-------------+----------------------------+-----------------------------+-----------------+----------------------------+--------------------+------------------+\n",
            "|ID_Estudiante|Conexiones_Semanales|Tareas_Entregadas|Participacion_Foros|Riesgo_Abandono_Cal|Abandono|Calificacion_Antes|Calificacion_Despues|Tiempo_Respuesta_Tutor (minutos)|Microabandono|EvoluciónDesempeño|Motivacion_Encuesta|Tasa_Retención_Estudiantes|Participación_Estudiante|Índice_Progreso_Curso|Evolución_desempeño|Tiempo_Respuesta_Tutor|Tasa_Abandono|Porcentaje_Tareas_entregadas|Porcentaje_participación_foro|Porcentaje_acceso|Índice_participación_general|Riesgo_Microabandono|Revierte_situación|\n",
            "+-------------+--------------------+-----------------+-------------------+-------------------+--------+------------------+--------------------+--------------------------------+-------------+------------------+-------------------+--------------------------+------------------------+---------------------+-------------------+----------------------+-------------+----------------------------+-----------------------------+-----------------+----------------------------+--------------------+------------------+\n",
            "|            1|                 6.0|                6|                  3|                  0|       0|  52.1579955975288|    69.8271391160635|                               3|           60|  33.8761935080417|                  8|                      87.0|                     1.5|     1.33876193508042|   17.6691435185347|                 32.95|          0.0|                          60|                           30|            100.0|                        66.0|              Activo|             false|\n",
            "|            2|                 1.0|                0|                  0|                  0|       0|  94.5571556849036|    81.1043350113937|                              31|            0| -14.2271841576319|                  7|                       NaN|                     0.0|    0.857728158423681|  -13.4528206735099|                   NaN|          NaN|                           0|                            0| 16.6666666666667|            5.00000000000001|              Riesgo|             false|\n",
            "|            3|                 1.0|                5|                  0|                  0|       1|           20.3654|    93.1181854373373|                              40|           50|  357.237203479123|                  1|                       NaN|                     5.0|     4.57237203479123|   72.7527854373373|                   NaN|          NaN|                          50|                            0| 16.6666666666667|                        30.0|              Riesgo|             false|\n",
            "|            4|                 3.0|                5|                  1|                  0|       0|   99.648239805965|    97.4760311828821|                              36|           50| -2.17987656110397|                  2|                       NaN|                     2.0|     0.97820123438896|  -2.17220862308291|                   NaN|          NaN|                          50|                           10|             50.0|                        42.0|              Riesgo|             false|\n",
            "|            5|                 1.0|                1|                  0|                  0|       0|  53.6898282367699|    57.3536740464519|                              24|           10|   6.8240967237306|                  3|                       NaN|                     1.0|     1.06824096723731|   3.66384580968196|                   NaN|          NaN|                          10|                            0| 16.6666666666667|                        10.0|              Riesgo|             false|\n",
            "|            6|                 1.0|                9|                  3|                  0|       1|   77.692714220066|    96.3293812580747|                               6|           90|  23.9876637405407|                  1|                       NaN|                    12.0|     1.23987663740541|   18.6366670380087|                   NaN|          NaN|                          90|                           30| 16.6666666666667|                        56.0|              Activo|             false|\n",
            "|            7|                 5.0|                8|                  4|                  1|       0|   98.465126780955|    74.6058146539769|                              66|           80| -24.2312307991594|                  9|                       NaN|                     2.4|    0.757687692008407|   -23.859312126978|                   NaN|          NaN|                          80|                           40| 83.3333333333333|                        73.0|              Activo|             false|\n",
            "|            8|                 3.0|                4|                  4|                  0|       0|  76.1548922085075|    62.9122194149479|                               4|           40|  -17.389129456453|                  8|                       NaN|        2.66666666666667|    0.826108705435471|  -13.2426727935595|                   NaN|          NaN|                          40|                           40|             50.0|                        43.0|              Riesgo|             false|\n",
            "|            9|                 5.0|                5|                  2|                  0|       0|  81.4699319067631|    72.9567878119131|                               6|           50| -10.4494307232179|                  2|                       NaN|                     1.4|    0.895505692767821|  -8.51314409485005|                   NaN|          NaN|                          50|                           20| 83.3333333333333|                        54.0|              Riesgo|             false|\n",
            "|           10|                 6.0|                3|                  0|                  0|       0|  84.7874344492309|    99.0016287642738|                              51|           30|  16.7645057400034|                  9|                       NaN|                     0.5|     1.16764505740003|    14.214194315043|                   NaN|          NaN|                          30|                            0|            100.0|                        45.0|              Riesgo|             false|\n",
            "|           11|                 6.0|                9|                  0|                  1|       0|  72.7270532383887|    74.6309046996435|                              62|           90|  2.61780365968389|                  7|                       NaN|                     1.5|     1.02617803659684|   1.90385146125482|                   NaN|          NaN|                          90|                            0|            100.0|                        75.0|              Activo|                Si|\n",
            "|           12|                 5.0|                6|                  2|                  0|       0|  81.3779040042032|    66.4375805143754|                              57|           60| -18.3591893556955|                  9|                       NaN|                     1.6|    0.816408106443045|  -14.9403234898278|                   NaN|          NaN|                          60|                           20| 83.3333333333333|                        59.0|              Activo|             false|\n",
            "|           13|                 6.0|                8|                  2|                  1|       0|   79.215715596155|    81.6700427158363|                              66|           80|  3.09828308841338|                  6|                       NaN|        1.66666666666667|     1.03098283088413|   2.45432711968128|                   NaN|          NaN|                          80|                           20|            100.0|                        74.0|              Activo|                Si|\n",
            "|           14|                 3.0|                6|                  2|                  0|       0|  95.0579005245494|    62.0072809389097|                               8|           60| -34.7689349367695|                  6|                       NaN|        2.66666666666667|    0.652310650632304|  -33.0506195856398|                   NaN|          NaN|                          60|                           20|             50.0|                        49.0|              Activo|             false|\n",
            "|           15|                 3.0|                5|                  3|                  0|       0|  52.2723190170729|    53.7931664054332|                              26|           50|  2.90946990100738|                  4|                       NaN|        2.66666666666667|     1.02909469901007|    1.5208473883603|                   NaN|          NaN|                          50|                           30|             50.0|                        46.0|              Riesgo|             false|\n",
            "|           16|                 5.0|                6|                  0|                  0|       0|  64.0481594796115|    56.4439860955325|                              51|           60| -11.8725868875274|                  2|                       NaN|                     1.2|    0.881274131124725|  -7.60417338407905|                   NaN|          NaN|                          60|                            0| 83.3333333333333|                        55.0|              Activo|             false|\n",
            "|           17|                 4.0|                8|                  3|                  0|       0|  97.5205742038279|    56.4022919478886|                              45|           80| -42.1636999080809|                  7|                       NaN|                    2.75|    0.578363000919192|  -41.1182822559393|                   NaN|          NaN|                          80|                           30| 66.6666666666667|                        66.0|              Activo|             false|\n",
            "|           18|                 4.0|                8|                  2|                  0|       0|  94.5131891945458|    57.5951346756147|                              44|           80| -39.0612726472906|                  5|                       NaN|                     2.5|    0.609387273527094|  -36.9180545189311|                   NaN|          NaN|                          80|                           20| 66.6666666666667|                        64.0|              Activo|             false|\n",
            "|           19|                 1.0|                3|                  0|                  0|       0|  72.7828376392857|    56.9413586324705|                               5|           30| -21.7654044835764|                  6|                       NaN|                     3.0|    0.782345955164237|  -15.8414790068151|                   NaN|          NaN|                          30|                            0| 16.6666666666667|                        20.0|              Riesgo|             false|\n",
            "|           20|                 6.0|                8|                  3|                  1|       0|  81.0066298900768|    82.0437372401607|                              70|           80|  1.28027465343419|                  2|                       NaN|        1.83333333333333|     1.01280274653434|    1.0371073500839|                   NaN|          NaN|                          80|                           30|            100.0|                        76.0|              Activo|                Si|\n",
            "+-------------+--------------------+-----------------+-------------------+-------------------+--------+------------------+--------------------+--------------------------------+-------------+------------------+-------------------+--------------------------+------------------------+---------------------+-------------------+----------------------+-------------+----------------------------+-----------------------------+-----------------+----------------------------+--------------------+------------------+\n",
            "only showing top 20 rows\n",
            "\n"
          ]
        }
      ],
      "source": [
        "# Importar las librerías necesarias\n",
        "from google.colab import files\n",
        "import pandas as pd\n",
        "\n",
        "data_path = '/content/drive/MyDrive/TokioSchool/data/datos_dashboard_simulados.xlsx'\n",
        "\n",
        "# Cargar el archivo Excel\n",
        "excel_df = pd.read_excel(data_path, engine='openpyxl')\n",
        "\n",
        "# 3. Revisar los tipos de datos en el DataFrame de pandas\n",
        "print(\"Tipos de datos antes de la conversión:\")\n",
        "print(excel_df.dtypes)\n",
        "\n",
        "# 4. Uniformizar los tipos de datos\n",
        "# Supongamos que quieres que todas las columnas numéricas sean del tipo 'int'\n",
        "# También puedes optar por 'float' si es necesario\n",
        "\n",
        "# Cambiar tipos de datos a int, si son numéricos\n",
        "for column in excel_df.columns:\n",
        "    if pd.api.types.is_numeric_dtype(excel_df[column]):\n",
        "        excel_df[column] = pd.to_numeric(excel_df[column], downcast='integer', errors='coerce')\n",
        "\n",
        "# Verificar los tipos de datos después de la conversión\n",
        "print(\"Tipos de datos después de la conversión:\")\n",
        "print(excel_df.dtypes)\n",
        "\n",
        "# 5. Convertir el DataFrame de pandas a un DataFrame de PySpark\n",
        "df = spark.createDataFrame(excel_df)\n",
        "\n",
        "# Verificar la estructura del DataFrame de PySpark\n",
        "df.printSchema()\n",
        "df.show()"
      ]
    },
    {
      "cell_type": "markdown",
      "metadata": {
        "id": "rYMlD7nw2QA4"
      },
      "source": [
        "\n",
        "\n",
        "\n",
        "\n",
        "### Cálculos"
      ]
    },
    {
      "cell_type": "code",
      "execution_count": null,
      "metadata": {
        "id": "8yODBRVO-qPP",
        "colab": {
          "base_uri": "https://localhost:8080/"
        },
        "outputId": "0b5b0d8c-0c64-4d02-9820-79969dfeda7e"
      },
      "outputs": [
        {
          "output_type": "stream",
          "name": "stdout",
          "text": [
            "root\n",
            " |-- ID_Estudiante: long (nullable = true)\n",
            " |-- Conexiones_Semanales: float (nullable = true)\n",
            " |-- Tareas_Entregadas: float (nullable = true)\n",
            " |-- Participacion_Foros: float (nullable = true)\n",
            " |-- Riesgo_Abandono_Cal: float (nullable = true)\n",
            " |-- Abandono: long (nullable = true)\n",
            " |-- Calificacion_Antes: double (nullable = true)\n",
            " |-- Calificacion_Despues: double (nullable = true)\n",
            " |-- Tiempo_Respuesta_Tutor (minutos): long (nullable = true)\n",
            " |-- Microabandono: long (nullable = true)\n",
            " |-- EvoluciónDesempeño: double (nullable = true)\n",
            " |-- Motivacion_Encuesta: long (nullable = true)\n",
            " |-- Tasa_Retención_Estudiantes: double (nullable = true)\n",
            " |-- Participación_Estudiante: double (nullable = true)\n",
            " |-- Índice_Progreso_Curso: double (nullable = true)\n",
            " |-- Evolución_desempeño: double (nullable = true)\n",
            " |-- Tiempo_Respuesta_Tutor: double (nullable = true)\n",
            " |-- Tasa_Abandono: double (nullable = true)\n",
            " |-- Porcentaje_Tareas_entregadas: long (nullable = true)\n",
            " |-- Porcentaje_participación_foro: long (nullable = true)\n",
            " |-- Porcentaje_acceso: double (nullable = true)\n",
            " |-- Índice_participación_general: double (nullable = true)\n",
            " |-- Riesgo_Microabandono: string (nullable = true)\n",
            " |-- Revierte_situación: string (nullable = true)\n",
            "\n",
            "+-------------+--------------------+-----------------+-------------------+-------------------+--------+------------------+--------------------+--------------------------------+-------------+------------------+-------------------+--------------------------+------------------------+---------------------+-------------------+----------------------+-------------+----------------------------+-----------------------------+-----------------+----------------------------+--------------------+------------------+\n",
            "|ID_Estudiante|Conexiones_Semanales|Tareas_Entregadas|Participacion_Foros|Riesgo_Abandono_Cal|Abandono|Calificacion_Antes|Calificacion_Despues|Tiempo_Respuesta_Tutor (minutos)|Microabandono|EvoluciónDesempeño|Motivacion_Encuesta|Tasa_Retención_Estudiantes|Participación_Estudiante|Índice_Progreso_Curso|Evolución_desempeño|Tiempo_Respuesta_Tutor|Tasa_Abandono|Porcentaje_Tareas_entregadas|Porcentaje_participación_foro|Porcentaje_acceso|Índice_participación_general|Riesgo_Microabandono|Revierte_situación|\n",
            "+-------------+--------------------+-----------------+-------------------+-------------------+--------+------------------+--------------------+--------------------------------+-------------+------------------+-------------------+--------------------------+------------------------+---------------------+-------------------+----------------------+-------------+----------------------------+-----------------------------+-----------------+----------------------------+--------------------+------------------+\n",
            "|            1|                 6.0|              6.0|                3.0|                0.0|       0|  52.1579955975288|    69.8271391160635|                               3|           60|  33.8761935080417|                  8|                      87.0|                     1.5|     1.33876193508042|   17.6691435185347|                 32.95|          0.0|                          60|                           30|            100.0|                        66.0|              Activo|             false|\n",
            "|            2|                 1.0|              0.0|                0.0|                0.0|       0|  94.5571556849036|    81.1043350113937|                              31|            0| -14.2271841576319|                  7|                       NaN|                     0.0|    0.857728158423681|  -13.4528206735099|                   NaN|          NaN|                           0|                            0| 16.6666666666667|            5.00000000000001|              Riesgo|             false|\n",
            "|            3|                 1.0|              5.0|                0.0|                0.0|       1|           20.3654|    93.1181854373373|                              40|           50|  357.237203479123|                  1|                       NaN|                     5.0|     4.57237203479123|   72.7527854373373|                   NaN|          NaN|                          50|                            0| 16.6666666666667|                        30.0|              Riesgo|             false|\n",
            "|            4|                 3.0|              5.0|                1.0|                0.0|       0|   99.648239805965|    97.4760311828821|                              36|           50| -2.17987656110397|                  2|                       NaN|                     2.0|     0.97820123438896|  -2.17220862308291|                   NaN|          NaN|                          50|                           10|             50.0|                        42.0|              Riesgo|             false|\n",
            "|            5|                 1.0|              1.0|                0.0|                0.0|       0|  53.6898282367699|    57.3536740464519|                              24|           10|   6.8240967237306|                  3|                       NaN|                     1.0|     1.06824096723731|   3.66384580968196|                   NaN|          NaN|                          10|                            0| 16.6666666666667|                        10.0|              Riesgo|             false|\n",
            "|            6|                 1.0|              9.0|                3.0|                0.0|       1|   77.692714220066|    96.3293812580747|                               6|           90|  23.9876637405407|                  1|                       NaN|                    12.0|     1.23987663740541|   18.6366670380087|                   NaN|          NaN|                          90|                           30| 16.6666666666667|                        56.0|              Activo|             false|\n",
            "|            7|                 5.0|              8.0|                4.0|                1.0|       0|   98.465126780955|    74.6058146539769|                              66|           80| -24.2312307991594|                  9|                       NaN|                     2.4|    0.757687692008407|   -23.859312126978|                   NaN|          NaN|                          80|                           40| 83.3333333333333|                        73.0|              Activo|             false|\n",
            "|            8|                 3.0|              4.0|                4.0|                0.0|       0|  76.1548922085075|    62.9122194149479|                               4|           40|  -17.389129456453|                  8|                       NaN|        2.66666666666667|    0.826108705435471|  -13.2426727935595|                   NaN|          NaN|                          40|                           40|             50.0|                        43.0|              Riesgo|             false|\n",
            "|            9|                 5.0|              5.0|                2.0|                0.0|       0|  81.4699319067631|    72.9567878119131|                               6|           50| -10.4494307232179|                  2|                       NaN|                     1.4|    0.895505692767821|  -8.51314409485005|                   NaN|          NaN|                          50|                           20| 83.3333333333333|                        54.0|              Riesgo|             false|\n",
            "|           10|                 6.0|              3.0|                0.0|                0.0|       0|  84.7874344492309|    99.0016287642738|                              51|           30|  16.7645057400034|                  9|                       NaN|                     0.5|     1.16764505740003|    14.214194315043|                   NaN|          NaN|                          30|                            0|            100.0|                        45.0|              Riesgo|             false|\n",
            "|           11|                 6.0|              9.0|                0.0|                1.0|       0|  72.7270532383887|    74.6309046996435|                              62|           90|  2.61780365968389|                  7|                       NaN|                     1.5|     1.02617803659684|   1.90385146125482|                   NaN|          NaN|                          90|                            0|            100.0|                        75.0|              Activo|                Si|\n",
            "|           12|                 5.0|              6.0|                2.0|                0.0|       0|  81.3779040042032|    66.4375805143754|                              57|           60| -18.3591893556955|                  9|                       NaN|                     1.6|    0.816408106443045|  -14.9403234898278|                   NaN|          NaN|                          60|                           20| 83.3333333333333|                        59.0|              Activo|             false|\n",
            "|           13|                 6.0|              8.0|                2.0|                1.0|       0|   79.215715596155|    81.6700427158363|                              66|           80|  3.09828308841338|                  6|                       NaN|        1.66666666666667|     1.03098283088413|   2.45432711968128|                   NaN|          NaN|                          80|                           20|            100.0|                        74.0|              Activo|                Si|\n",
            "|           14|                 3.0|              6.0|                2.0|                0.0|       0|  95.0579005245494|    62.0072809389097|                               8|           60| -34.7689349367695|                  6|                       NaN|        2.66666666666667|    0.652310650632304|  -33.0506195856398|                   NaN|          NaN|                          60|                           20|             50.0|                        49.0|              Activo|             false|\n",
            "|           15|                 3.0|              5.0|                3.0|                0.0|       0|  52.2723190170729|    53.7931664054332|                              26|           50|  2.90946990100738|                  4|                       NaN|        2.66666666666667|     1.02909469901007|    1.5208473883603|                   NaN|          NaN|                          50|                           30|             50.0|                        46.0|              Riesgo|             false|\n",
            "|           16|                 5.0|              6.0|                0.0|                0.0|       0|  64.0481594796115|    56.4439860955325|                              51|           60| -11.8725868875274|                  2|                       NaN|                     1.2|    0.881274131124725|  -7.60417338407905|                   NaN|          NaN|                          60|                            0| 83.3333333333333|                        55.0|              Activo|             false|\n",
            "|           17|                 4.0|              8.0|                3.0|                0.0|       0|  97.5205742038279|    56.4022919478886|                              45|           80| -42.1636999080809|                  7|                       NaN|                    2.75|    0.578363000919192|  -41.1182822559393|                   NaN|          NaN|                          80|                           30| 66.6666666666667|                        66.0|              Activo|             false|\n",
            "|           18|                 4.0|              8.0|                2.0|                0.0|       0|  94.5131891945458|    57.5951346756147|                              44|           80| -39.0612726472906|                  5|                       NaN|                     2.5|    0.609387273527094|  -36.9180545189311|                   NaN|          NaN|                          80|                           20| 66.6666666666667|                        64.0|              Activo|             false|\n",
            "|           19|                 1.0|              3.0|                0.0|                0.0|       0|  72.7828376392857|    56.9413586324705|                               5|           30| -21.7654044835764|                  6|                       NaN|                     3.0|    0.782345955164237|  -15.8414790068151|                   NaN|          NaN|                          30|                            0| 16.6666666666667|                        20.0|              Riesgo|             false|\n",
            "|           20|                 6.0|              8.0|                3.0|                1.0|       0|  81.0066298900768|    82.0437372401607|                              70|           80|  1.28027465343419|                  2|                       NaN|        1.83333333333333|     1.01280274653434|    1.0371073500839|                   NaN|          NaN|                          80|                           30|            100.0|                        76.0|              Activo|                Si|\n",
            "+-------------+--------------------+-----------------+-------------------+-------------------+--------+------------------+--------------------+--------------------------------+-------------+------------------+-------------------+--------------------------+------------------------+---------------------+-------------------+----------------------+-------------+----------------------------+-----------------------------+-----------------+----------------------------+--------------------+------------------+\n",
            "only showing top 20 rows\n",
            "\n"
          ]
        }
      ],
      "source": [
        "#Importamos las librerías necesarias\n",
        "from pyspark.ml.classification import DecisionTreeClassifier\n",
        "from pyspark.ml.feature import VectorAssembler, StringIndexer, IndexToString\n",
        "from pyspark.ml.evaluation import MulticlassClassificationEvaluator\n",
        "from pyspark.sql.functions import col\n",
        "\n",
        "#Modificación del tipo de dato a float\n",
        "df = df.withColumn('Conexiones_Semanales', col('Conexiones_Semanales').cast(\"float\"))\n",
        "df = df.withColumn('Tareas_Entregadas', col('Tareas_Entregadas').cast(\"float\"))\n",
        "df = df.withColumn('Participacion_Foros', col('Participacion_Foros').cast(\"float\"))\n",
        "df = df.withColumn('Riesgo_Abandono_Cal', col('Riesgo_Abandono_Cal').cast(\"float\"))\n",
        "\n",
        "# Mostrar el esquema para verificar los tipos de datos\n",
        "df.printSchema()\n",
        "df.show()"
      ]
    },
    {
      "cell_type": "code",
      "execution_count": null,
      "metadata": {
        "id": "zGm7I6kEU4xd"
      },
      "outputs": [],
      "source": [
        "#Creación de la columna 'features'\n",
        "feat = VectorAssembler(inputCols=[\"Conexiones_Semanales\", \"Tareas_Entregadas\", \"Participacion_Foros\",\"Riesgo_Abandono_Cal\"], outputCol=\"features\")\n",
        "feat_df = feat.transform(df)"
      ]
    },
    {
      "cell_type": "code",
      "source": [
        "#Mostramos como se ha creado correctamente la columna 'features'\n",
        "feat_df.show()"
      ],
      "metadata": {
        "colab": {
          "base_uri": "https://localhost:8080/"
        },
        "id": "yBFPbJ7T46Ww",
        "outputId": "5354c9bc-38e7-435a-c072-18d5092f24c3"
      },
      "execution_count": null,
      "outputs": [
        {
          "output_type": "stream",
          "name": "stdout",
          "text": [
            "+-------------+--------------------+-----------------+-------------------+-------------------+--------+------------------+--------------------+--------------------------------+-------------+------------------+-------------------+--------------------------+------------------------+---------------------+-------------------+----------------------+-------------+----------------------------+-----------------------------+-----------------+----------------------------+--------------------+------------------+-----------------+\n",
            "|ID_Estudiante|Conexiones_Semanales|Tareas_Entregadas|Participacion_Foros|Riesgo_Abandono_Cal|Abandono|Calificacion_Antes|Calificacion_Despues|Tiempo_Respuesta_Tutor (minutos)|Microabandono|EvoluciónDesempeño|Motivacion_Encuesta|Tasa_Retención_Estudiantes|Participación_Estudiante|Índice_Progreso_Curso|Evolución_desempeño|Tiempo_Respuesta_Tutor|Tasa_Abandono|Porcentaje_Tareas_entregadas|Porcentaje_participación_foro|Porcentaje_acceso|Índice_participación_general|Riesgo_Microabandono|Revierte_situación|         features|\n",
            "+-------------+--------------------+-----------------+-------------------+-------------------+--------+------------------+--------------------+--------------------------------+-------------+------------------+-------------------+--------------------------+------------------------+---------------------+-------------------+----------------------+-------------+----------------------------+-----------------------------+-----------------+----------------------------+--------------------+------------------+-----------------+\n",
            "|            1|                 6.0|              6.0|                3.0|                0.0|       0|  52.1579955975288|    69.8271391160635|                               3|           60|  33.8761935080417|                  8|                      87.0|                     1.5|     1.33876193508042|   17.6691435185347|                 32.95|          0.0|                          60|                           30|            100.0|                        66.0|              Activo|             false|[6.0,6.0,3.0,0.0]|\n",
            "|            2|                 1.0|              0.0|                0.0|                0.0|       0|  94.5571556849036|    81.1043350113937|                              31|            0| -14.2271841576319|                  7|                       NaN|                     0.0|    0.857728158423681|  -13.4528206735099|                   NaN|          NaN|                           0|                            0| 16.6666666666667|            5.00000000000001|              Riesgo|             false|    (4,[0],[1.0])|\n",
            "|            3|                 1.0|              5.0|                0.0|                0.0|       1|           20.3654|    93.1181854373373|                              40|           50|  357.237203479123|                  1|                       NaN|                     5.0|     4.57237203479123|   72.7527854373373|                   NaN|          NaN|                          50|                            0| 16.6666666666667|                        30.0|              Riesgo|             false|[1.0,5.0,0.0,0.0]|\n",
            "|            4|                 3.0|              5.0|                1.0|                0.0|       0|   99.648239805965|    97.4760311828821|                              36|           50| -2.17987656110397|                  2|                       NaN|                     2.0|     0.97820123438896|  -2.17220862308291|                   NaN|          NaN|                          50|                           10|             50.0|                        42.0|              Riesgo|             false|[3.0,5.0,1.0,0.0]|\n",
            "|            5|                 1.0|              1.0|                0.0|                0.0|       0|  53.6898282367699|    57.3536740464519|                              24|           10|   6.8240967237306|                  3|                       NaN|                     1.0|     1.06824096723731|   3.66384580968196|                   NaN|          NaN|                          10|                            0| 16.6666666666667|                        10.0|              Riesgo|             false|[1.0,1.0,0.0,0.0]|\n",
            "|            6|                 1.0|              9.0|                3.0|                0.0|       1|   77.692714220066|    96.3293812580747|                               6|           90|  23.9876637405407|                  1|                       NaN|                    12.0|     1.23987663740541|   18.6366670380087|                   NaN|          NaN|                          90|                           30| 16.6666666666667|                        56.0|              Activo|             false|[1.0,9.0,3.0,0.0]|\n",
            "|            7|                 5.0|              8.0|                4.0|                1.0|       0|   98.465126780955|    74.6058146539769|                              66|           80| -24.2312307991594|                  9|                       NaN|                     2.4|    0.757687692008407|   -23.859312126978|                   NaN|          NaN|                          80|                           40| 83.3333333333333|                        73.0|              Activo|             false|[5.0,8.0,4.0,1.0]|\n",
            "|            8|                 3.0|              4.0|                4.0|                0.0|       0|  76.1548922085075|    62.9122194149479|                               4|           40|  -17.389129456453|                  8|                       NaN|        2.66666666666667|    0.826108705435471|  -13.2426727935595|                   NaN|          NaN|                          40|                           40|             50.0|                        43.0|              Riesgo|             false|[3.0,4.0,4.0,0.0]|\n",
            "|            9|                 5.0|              5.0|                2.0|                0.0|       0|  81.4699319067631|    72.9567878119131|                               6|           50| -10.4494307232179|                  2|                       NaN|                     1.4|    0.895505692767821|  -8.51314409485005|                   NaN|          NaN|                          50|                           20| 83.3333333333333|                        54.0|              Riesgo|             false|[5.0,5.0,2.0,0.0]|\n",
            "|           10|                 6.0|              3.0|                0.0|                0.0|       0|  84.7874344492309|    99.0016287642738|                              51|           30|  16.7645057400034|                  9|                       NaN|                     0.5|     1.16764505740003|    14.214194315043|                   NaN|          NaN|                          30|                            0|            100.0|                        45.0|              Riesgo|             false|[6.0,3.0,0.0,0.0]|\n",
            "|           11|                 6.0|              9.0|                0.0|                1.0|       0|  72.7270532383887|    74.6309046996435|                              62|           90|  2.61780365968389|                  7|                       NaN|                     1.5|     1.02617803659684|   1.90385146125482|                   NaN|          NaN|                          90|                            0|            100.0|                        75.0|              Activo|                Si|[6.0,9.0,0.0,1.0]|\n",
            "|           12|                 5.0|              6.0|                2.0|                0.0|       0|  81.3779040042032|    66.4375805143754|                              57|           60| -18.3591893556955|                  9|                       NaN|                     1.6|    0.816408106443045|  -14.9403234898278|                   NaN|          NaN|                          60|                           20| 83.3333333333333|                        59.0|              Activo|             false|[5.0,6.0,2.0,0.0]|\n",
            "|           13|                 6.0|              8.0|                2.0|                1.0|       0|   79.215715596155|    81.6700427158363|                              66|           80|  3.09828308841338|                  6|                       NaN|        1.66666666666667|     1.03098283088413|   2.45432711968128|                   NaN|          NaN|                          80|                           20|            100.0|                        74.0|              Activo|                Si|[6.0,8.0,2.0,1.0]|\n",
            "|           14|                 3.0|              6.0|                2.0|                0.0|       0|  95.0579005245494|    62.0072809389097|                               8|           60| -34.7689349367695|                  6|                       NaN|        2.66666666666667|    0.652310650632304|  -33.0506195856398|                   NaN|          NaN|                          60|                           20|             50.0|                        49.0|              Activo|             false|[3.0,6.0,2.0,0.0]|\n",
            "|           15|                 3.0|              5.0|                3.0|                0.0|       0|  52.2723190170729|    53.7931664054332|                              26|           50|  2.90946990100738|                  4|                       NaN|        2.66666666666667|     1.02909469901007|    1.5208473883603|                   NaN|          NaN|                          50|                           30|             50.0|                        46.0|              Riesgo|             false|[3.0,5.0,3.0,0.0]|\n",
            "|           16|                 5.0|              6.0|                0.0|                0.0|       0|  64.0481594796115|    56.4439860955325|                              51|           60| -11.8725868875274|                  2|                       NaN|                     1.2|    0.881274131124725|  -7.60417338407905|                   NaN|          NaN|                          60|                            0| 83.3333333333333|                        55.0|              Activo|             false|[5.0,6.0,0.0,0.0]|\n",
            "|           17|                 4.0|              8.0|                3.0|                0.0|       0|  97.5205742038279|    56.4022919478886|                              45|           80| -42.1636999080809|                  7|                       NaN|                    2.75|    0.578363000919192|  -41.1182822559393|                   NaN|          NaN|                          80|                           30| 66.6666666666667|                        66.0|              Activo|             false|[4.0,8.0,3.0,0.0]|\n",
            "|           18|                 4.0|              8.0|                2.0|                0.0|       0|  94.5131891945458|    57.5951346756147|                              44|           80| -39.0612726472906|                  5|                       NaN|                     2.5|    0.609387273527094|  -36.9180545189311|                   NaN|          NaN|                          80|                           20| 66.6666666666667|                        64.0|              Activo|             false|[4.0,8.0,2.0,0.0]|\n",
            "|           19|                 1.0|              3.0|                0.0|                0.0|       0|  72.7828376392857|    56.9413586324705|                               5|           30| -21.7654044835764|                  6|                       NaN|                     3.0|    0.782345955164237|  -15.8414790068151|                   NaN|          NaN|                          30|                            0| 16.6666666666667|                        20.0|              Riesgo|             false|[1.0,3.0,0.0,0.0]|\n",
            "|           20|                 6.0|              8.0|                3.0|                1.0|       0|  81.0066298900768|    82.0437372401607|                              70|           80|  1.28027465343419|                  2|                       NaN|        1.83333333333333|     1.01280274653434|    1.0371073500839|                   NaN|          NaN|                          80|                           30|            100.0|                        76.0|              Activo|                Si|[6.0,8.0,3.0,1.0]|\n",
            "+-------------+--------------------+-----------------+-------------------+-------------------+--------+------------------+--------------------+--------------------------------+-------------+------------------+-------------------+--------------------------+------------------------+---------------------+-------------------+----------------------+-------------+----------------------------+-----------------------------+-----------------+----------------------------+--------------------+------------------+-----------------+\n",
            "only showing top 20 rows\n",
            "\n"
          ]
        }
      ]
    },
    {
      "cell_type": "code",
      "source": [
        "#Importamos las librerías\n",
        "from pyspark.ml.clustering import BisectingKMeans\n",
        "\n",
        "#Definimos el número de clusters que vamos a crear (3 en este caso)\n",
        "bkm = BisectingKMeans().setK(3).setSeed(1)"
      ],
      "metadata": {
        "id": "HodSCLKlYKKM"
      },
      "execution_count": null,
      "outputs": []
    },
    {
      "cell_type": "code",
      "source": [
        "#Entrenamos el modelo\n",
        "model = bkm.fit(feat_df)\n",
        "\n",
        "#Asignamos un custer a cada una de las filas de nuestro dataset\n",
        "predictions = model.transform(feat_df)\n",
        "\n",
        "#Mostramos las predicciones\n",
        "predictions.show(100)"
      ],
      "metadata": {
        "colab": {
          "base_uri": "https://localhost:8080/"
        },
        "id": "Z_rj6x5bYR41",
        "outputId": "ddf674c8-ae89-44b8-b067-5a8f2f66e1b1"
      },
      "execution_count": null,
      "outputs": [
        {
          "output_type": "stream",
          "name": "stdout",
          "text": [
            "+-------------+--------------------+-----------------+-------------------+-------------------+--------+------------------+--------------------+--------------------------------+-------------+------------------+-------------------+--------------------------+------------------------+---------------------+-------------------+----------------------+-------------+----------------------------+-----------------------------+-----------------+----------------------------+--------------------+------------------+--------------------+----------+\n",
            "|ID_Estudiante|Conexiones_Semanales|Tareas_Entregadas|Participacion_Foros|Riesgo_Abandono_Cal|Abandono|Calificacion_Antes|Calificacion_Despues|Tiempo_Respuesta_Tutor (minutos)|Microabandono|EvoluciónDesempeño|Motivacion_Encuesta|Tasa_Retención_Estudiantes|Participación_Estudiante|Índice_Progreso_Curso|Evolución_desempeño|Tiempo_Respuesta_Tutor|Tasa_Abandono|Porcentaje_Tareas_entregadas|Porcentaje_participación_foro|Porcentaje_acceso|Índice_participación_general|Riesgo_Microabandono|Revierte_situación|            features|prediction|\n",
            "+-------------+--------------------+-----------------+-------------------+-------------------+--------+------------------+--------------------+--------------------------------+-------------+------------------+-------------------+--------------------------+------------------------+---------------------+-------------------+----------------------+-------------+----------------------------+-----------------------------+-----------------+----------------------------+--------------------+------------------+--------------------+----------+\n",
            "|            1|                 6.0|              6.0|                3.0|                0.0|       0|  52.1579955975288|    69.8271391160635|                               3|           60|  33.8761935080417|                  8|                      87.0|                     1.5|     1.33876193508042|   17.6691435185347|                 32.95|          0.0|                          60|                           30|            100.0|                        66.0|              Activo|             false|   [6.0,6.0,3.0,0.0]|         2|\n",
            "|            2|                 1.0|              0.0|                0.0|                0.0|       0|  94.5571556849036|    81.1043350113937|                              31|            0| -14.2271841576319|                  7|                       NaN|                     0.0|    0.857728158423681|  -13.4528206735099|                   NaN|          NaN|                           0|                            0| 16.6666666666667|            5.00000000000001|              Riesgo|             false|       (4,[0],[1.0])|         0|\n",
            "|            3|                 1.0|              5.0|                0.0|                0.0|       1|           20.3654|    93.1181854373373|                              40|           50|  357.237203479123|                  1|                       NaN|                     5.0|     4.57237203479123|   72.7527854373373|                   NaN|          NaN|                          50|                            0| 16.6666666666667|                        30.0|              Riesgo|             false|   [1.0,5.0,0.0,0.0]|         0|\n",
            "|            4|                 3.0|              5.0|                1.0|                0.0|       0|   99.648239805965|    97.4760311828821|                              36|           50| -2.17987656110397|                  2|                       NaN|                     2.0|     0.97820123438896|  -2.17220862308291|                   NaN|          NaN|                          50|                           10|             50.0|                        42.0|              Riesgo|             false|   [3.0,5.0,1.0,0.0]|         1|\n",
            "|            5|                 1.0|              1.0|                0.0|                0.0|       0|  53.6898282367699|    57.3536740464519|                              24|           10|   6.8240967237306|                  3|                       NaN|                     1.0|     1.06824096723731|   3.66384580968196|                   NaN|          NaN|                          10|                            0| 16.6666666666667|                        10.0|              Riesgo|             false|   [1.0,1.0,0.0,0.0]|         0|\n",
            "|            6|                 1.0|              9.0|                3.0|                0.0|       1|   77.692714220066|    96.3293812580747|                               6|           90|  23.9876637405407|                  1|                       NaN|                    12.0|     1.23987663740541|   18.6366670380087|                   NaN|          NaN|                          90|                           30| 16.6666666666667|                        56.0|              Activo|             false|   [1.0,9.0,3.0,0.0]|         1|\n",
            "|            7|                 5.0|              8.0|                4.0|                1.0|       0|   98.465126780955|    74.6058146539769|                              66|           80| -24.2312307991594|                  9|                       NaN|                     2.4|    0.757687692008407|   -23.859312126978|                   NaN|          NaN|                          80|                           40| 83.3333333333333|                        73.0|              Activo|             false|   [5.0,8.0,4.0,1.0]|         2|\n",
            "|            8|                 3.0|              4.0|                4.0|                0.0|       0|  76.1548922085075|    62.9122194149479|                               4|           40|  -17.389129456453|                  8|                       NaN|        2.66666666666667|    0.826108705435471|  -13.2426727935595|                   NaN|          NaN|                          40|                           40|             50.0|                        43.0|              Riesgo|             false|   [3.0,4.0,4.0,0.0]|         1|\n",
            "|            9|                 5.0|              5.0|                2.0|                0.0|       0|  81.4699319067631|    72.9567878119131|                               6|           50| -10.4494307232179|                  2|                       NaN|                     1.4|    0.895505692767821|  -8.51314409485005|                   NaN|          NaN|                          50|                           20| 83.3333333333333|                        54.0|              Riesgo|             false|   [5.0,5.0,2.0,0.0]|         1|\n",
            "|           10|                 6.0|              3.0|                0.0|                0.0|       0|  84.7874344492309|    99.0016287642738|                              51|           30|  16.7645057400034|                  9|                       NaN|                     0.5|     1.16764505740003|    14.214194315043|                   NaN|          NaN|                          30|                            0|            100.0|                        45.0|              Riesgo|             false|   [6.0,3.0,0.0,0.0]|         1|\n",
            "|           11|                 6.0|              9.0|                0.0|                1.0|       0|  72.7270532383887|    74.6309046996435|                              62|           90|  2.61780365968389|                  7|                       NaN|                     1.5|     1.02617803659684|   1.90385146125482|                   NaN|          NaN|                          90|                            0|            100.0|                        75.0|              Activo|                Si|   [6.0,9.0,0.0,1.0]|         2|\n",
            "|           12|                 5.0|              6.0|                2.0|                0.0|       0|  81.3779040042032|    66.4375805143754|                              57|           60| -18.3591893556955|                  9|                       NaN|                     1.6|    0.816408106443045|  -14.9403234898278|                   NaN|          NaN|                          60|                           20| 83.3333333333333|                        59.0|              Activo|             false|   [5.0,6.0,2.0,0.0]|         1|\n",
            "|           13|                 6.0|              8.0|                2.0|                1.0|       0|   79.215715596155|    81.6700427158363|                              66|           80|  3.09828308841338|                  6|                       NaN|        1.66666666666667|     1.03098283088413|   2.45432711968128|                   NaN|          NaN|                          80|                           20|            100.0|                        74.0|              Activo|                Si|   [6.0,8.0,2.0,1.0]|         2|\n",
            "|           14|                 3.0|              6.0|                2.0|                0.0|       0|  95.0579005245494|    62.0072809389097|                               8|           60| -34.7689349367695|                  6|                       NaN|        2.66666666666667|    0.652310650632304|  -33.0506195856398|                   NaN|          NaN|                          60|                           20|             50.0|                        49.0|              Activo|             false|   [3.0,6.0,2.0,0.0]|         1|\n",
            "|           15|                 3.0|              5.0|                3.0|                0.0|       0|  52.2723190170729|    53.7931664054332|                              26|           50|  2.90946990100738|                  4|                       NaN|        2.66666666666667|     1.02909469901007|    1.5208473883603|                   NaN|          NaN|                          50|                           30|             50.0|                        46.0|              Riesgo|             false|   [3.0,5.0,3.0,0.0]|         1|\n",
            "|           16|                 5.0|              6.0|                0.0|                0.0|       0|  64.0481594796115|    56.4439860955325|                              51|           60| -11.8725868875274|                  2|                       NaN|                     1.2|    0.881274131124725|  -7.60417338407905|                   NaN|          NaN|                          60|                            0| 83.3333333333333|                        55.0|              Activo|             false|   [5.0,6.0,0.0,0.0]|         1|\n",
            "|           17|                 4.0|              8.0|                3.0|                0.0|       0|  97.5205742038279|    56.4022919478886|                              45|           80| -42.1636999080809|                  7|                       NaN|                    2.75|    0.578363000919192|  -41.1182822559393|                   NaN|          NaN|                          80|                           30| 66.6666666666667|                        66.0|              Activo|             false|   [4.0,8.0,3.0,0.0]|         2|\n",
            "|           18|                 4.0|              8.0|                2.0|                0.0|       0|  94.5131891945458|    57.5951346756147|                              44|           80| -39.0612726472906|                  5|                       NaN|                     2.5|    0.609387273527094|  -36.9180545189311|                   NaN|          NaN|                          80|                           20| 66.6666666666667|                        64.0|              Activo|             false|   [4.0,8.0,2.0,0.0]|         2|\n",
            "|           19|                 1.0|              3.0|                0.0|                0.0|       0|  72.7828376392857|    56.9413586324705|                               5|           30| -21.7654044835764|                  6|                       NaN|                     3.0|    0.782345955164237|  -15.8414790068151|                   NaN|          NaN|                          30|                            0| 16.6666666666667|                        20.0|              Riesgo|             false|   [1.0,3.0,0.0,0.0]|         0|\n",
            "|           20|                 6.0|              8.0|                3.0|                1.0|       0|  81.0066298900768|    82.0437372401607|                              70|           80|  1.28027465343419|                  2|                       NaN|        1.83333333333333|     1.01280274653434|    1.0371073500839|                   NaN|          NaN|                          80|                           30|            100.0|                        76.0|              Activo|                Si|   [6.0,8.0,3.0,1.0]|         2|\n",
            "|           21|                 4.0|              2.0|                3.0|                0.0|       0|  63.8690591490566|    59.0940042199572|                              26|           20| -7.47631950856745|                  5|                       NaN|                    1.25|    0.925236804914326|  -4.77505492909939|                   NaN|          NaN|                          20|                           30| 66.6666666666667|                        36.0|              Riesgo|             false|   [4.0,2.0,3.0,0.0]|         0|\n",
            "|           22|                 1.0|              6.0|                2.0|                0.0|       1|  59.4060579861881|    67.2833641661932|                              68|           60|   13.260105866369|                  4|                       NaN|                     8.0|     1.13260105866369|    7.8773061800051|                   NaN|          NaN|                          60|                           20| 16.6666666666667|                        39.0|              Activo|             false|   [1.0,6.0,2.0,0.0]|         1|\n",
            "|           23|                 3.0|              5.0|                0.0|                0.0|       0|  73.1849202469991|    94.8394204953006|                              19|           50|  29.5887461176668|                  9|                       NaN|        1.66666666666667|     1.29588746117667|   21.6545002483015|                   NaN|          NaN|                          50|                            0|             50.0|                        40.0|              Riesgo|             false|   [3.0,5.0,0.0,0.0]|         1|\n",
            "|           24|                 3.0|              7.0|                2.0|                0.0|       0|  67.6676114013026|    73.6980820131436|                              20|           70|  8.91190111038104|                  6|                       NaN|                     3.0|     1.08911901110381|   6.03047061184098|                   NaN|          NaN|                          70|                           20|             50.0|                        54.0|              Activo|             false|   [3.0,7.0,2.0,0.0]|         1|\n",
            "|           25|                 3.0|              8.0|                0.0|                0.0|       0|  79.1828055925436|    83.3778869260514|                              12|           80|   5.2979700606906|                  2|                       NaN|        2.66666666666667|     1.05297970060691|   4.19508133350776|                   NaN|          NaN|                          80|                            0|             50.0|                        55.0|              Activo|             false|   [3.0,8.0,0.0,0.0]|         1|\n",
            "|           26|                 3.0|              6.0|                4.0|                0.0|       0|  53.8867318482492|    58.6159935600815|                              47|           60|  8.77630086224269|                  1|                       NaN|        3.33333333333333|     1.08776300862243|   4.72926171183225|                   NaN|          NaN|                          60|                           40|             50.0|                        53.0|              Activo|             false|   [3.0,6.0,4.0,0.0]|         1|\n",
            "|           27|                 4.0|              6.0|                1.0|                0.0|       0|  98.7197403833083|    59.6144509404335|                               1|           60| -39.6124314053472|                  5|                       NaN|                    1.75|    0.603875685946529|  -39.1052894428748|                   NaN|          NaN|                          60|                           10| 66.6666666666667|                        52.0|              Activo|             false|   [4.0,6.0,1.0,0.0]|         1|\n",
            "|           28|                 0.1|              2.0|                1.0|                0.0|       0|  99.3105372239801|     52.043430813324|                              14|           20| -47.5952579977009|                  9|                       NaN|                    30.0|     0.52404742002299|  -47.2671064106562|                   NaN|          NaN|                          20|                           10| 1.66666666666667|                        12.5|              Riesgo|             false|[0.10000000149011...|         0|\n",
            "|           29|                 6.0|              9.0|                1.0|                1.0|       1|  84.9080857009873|    58.4467531536082|                              64|           90| -31.1646792280366|                  6|                       NaN|        1.66666666666667|    0.688353207719635|   -26.461332547379|                   NaN|          NaN|                          90|                           10|            100.0|                        77.0|              Activo|             false|   [6.0,9.0,1.0,1.0]|         2|\n",
            "|           30|                 6.0|              7.0|                2.0|                1.0|       0|   76.804818317206|    63.9295169515979|                              38|           70| -16.7636635926053|                  7|                       NaN|                     1.5|    0.832363364073947|  -12.8753013656081|                   NaN|          NaN|                          70|                           20|            100.0|                        69.0|              Activo|             false|   [6.0,7.0,2.0,1.0]|         2|\n",
            "|           31|                 4.0|              5.0|                4.0|                0.0|       0|  65.4763808143164|    58.8505242138373|                              37|           50| -10.1194606636388|                  5|                       NaN|                    2.25|    0.898805393363613|  -6.62585660047905|                   NaN|          NaN|                          50|                           40| 66.6666666666667|                        53.0|              Riesgo|             false|   [4.0,5.0,4.0,0.0]|         1|\n",
            "|           32|                 0.1|              0.0|                0.0|                0.0|       0|  90.6897509853474|    54.4351266878528|                              11|            0| -39.9765396900827|                  6|                       NaN|                     0.0|    0.600234603099172|  -36.2546242974946|                   NaN|          NaN|                           0|                            0| 1.66666666666667|           0.500000000000001|              Riesgo|             false|(4,[0],[0.1000000...|         0|\n",
            "|           33|                 2.0|              3.0|                3.0|                0.0|       1|   84.236558627694|      56.03179355503|                               3|           30| -33.4828078593791|                  5|                       NaN|                     3.0|     0.66517192140621|  -28.2047650726639|                   NaN|          NaN|                          30|                           30| 33.3333333333333|                        31.0|              Riesgo|             false|   [2.0,3.0,3.0,0.0]|         0|\n",
            "|           34|                 6.0|              8.0|                0.0|                1.0|       0|  58.1308469672446|    73.0389384016363|                              33|           80|  25.6457495669934|                  9|                       NaN|        1.33333333333333|     1.25645749566993|   14.9080914343917|                   NaN|          NaN|                          80|                            0|            100.0|                        70.0|              Activo|                Si|   [6.0,8.0,0.0,1.0]|         2|\n",
            "|           35|                 0.1|              0.0|                3.0|                0.0|       0|  95.5463592246921|    60.3166859202896|                               6|            0| -36.8718113283149|                  6|                       NaN|                    30.0|    0.631281886716851|  -35.2296733044025|                   NaN|          NaN|                           0|                           30| 1.66666666666667|                         6.5|              Riesgo|             false|[0.10000000149011...|         0|\n",
            "|           36|                 0.1|              0.0|                0.0|                0.0|       1|  91.1268621461585|    68.2134930524038|                              50|            0|  -25.144472830639|                  8|                       NaN|                     0.0|     0.74855527169361|  -22.9133690937547|                   NaN|          NaN|                           0|                            0| 1.66666666666667|           0.500000000000001|              Riesgo|             false|(4,[0],[0.1000000...|         0|\n",
            "|           37|                 5.0|              6.0|                4.0|                0.0|       1|  97.4899956645962|    75.1708635427428|                              10|           60| -22.8937666574937|                  2|                       NaN|                     2.0|    0.771062333425063|  -22.3191321218534|                   NaN|          NaN|                          60|                           40| 83.3333333333333|                        63.0|              Activo|             false|   [5.0,6.0,4.0,0.0]|         2|\n",
            "|           38|                 6.0|              6.0|                3.0|                0.0|       0|   86.285975419418|    84.5197414314683|                               5|           60| -2.04695372494128|                  9|                       NaN|                     1.5|    0.979530462750587|  -1.76623398794975|                   NaN|          NaN|                          60|                           30|            100.0|                        66.0|              Activo|             false|   [6.0,6.0,3.0,0.0]|         2|\n",
            "|           39|                 3.0|              5.0|                2.0|                0.0|       0|  80.6707597967895|    51.9656069920549|                              23|           50| -35.5830946393008|                  5|                       NaN|        2.33333333333333|    0.644169053606993|  -28.7051528047346|                   NaN|          NaN|                          50|                           20|             50.0|                        44.0|              Riesgo|             false|   [3.0,5.0,2.0,0.0]|         1|\n",
            "|           40|                 3.0|              5.0|                0.0|                0.0|       0|  70.9121518145309|    89.9705199454521|                              10|           50|  26.8760256786001|                  7|                       NaN|        1.66666666666667|       1.268760256786|   19.0583681309212|                   NaN|          NaN|                          50|                            0|             50.0|                        40.0|              Riesgo|             false|   [3.0,5.0,0.0,0.0]|         1|\n",
            "|           41|                 0.1|              2.0|                0.0|                0.0|       0|  96.6364241677007|    81.3950194745454|                              44|           20| -15.7719046668218|                  1|                       NaN|                    20.0|    0.842280953331782|  -15.2414046931553|                   NaN|          NaN|                          20|                            0| 1.66666666666667|                        10.5|              Riesgo|             false|[0.10000000149011...|         0|\n",
            "|           42|                 2.0|              0.0|                3.0|                0.0|       1|  93.3031944750204|    54.0879515974436|                               2|            0| -42.0299037972121|                  5|                       NaN|                     1.5|    0.579700962027879|  -39.2152428775768|                   NaN|          NaN|                           0|                           30| 33.3333333333333|                        16.0|              Riesgo|             false|   [2.0,0.0,3.0,0.0]|         0|\n",
            "|           43|                 2.0|              3.0|                2.0|                0.0|       1|  52.2609335053095|    93.6789312053389|                              13|           30|  79.2523112810863|                  2|                       NaN|                     2.5|     1.79252311281086|   41.4179977000294|                   NaN|          NaN|                          30|                           20| 33.3333333333333|                        29.0|              Riesgo|             false|   [2.0,3.0,2.0,0.0]|         0|\n",
            "|           44|                 0.1|              0.0|                2.0|                0.0|       0|  51.3183487248626|    96.0436200265907|                              40|            0|  87.1525924217037|                  6|                       NaN|                    20.0|     1.87152592421704|   44.7252713017281|                   NaN|          NaN|                           0|                           20| 1.66666666666667|                         4.5|              Riesgo|             false|[0.10000000149011...|         0|\n",
            "|           45|                 2.0|              3.0|                4.0|                0.0|       1|  68.8231683439025|    53.0538979927432|                               2|           30| -22.9127352468893|                  1|                       NaN|                     3.5|    0.770872647531107|  -15.7692703511593|                   NaN|          NaN|                          30|                           40| 33.3333333333333|                        33.0|              Riesgo|             false|   [2.0,3.0,4.0,0.0]|         0|\n",
            "|           46|                 2.0|              0.0|                2.0|                0.0|       0|  90.5276665390917|    63.8438824073602|                              65|            0| -29.4758333577602|                  3|                       NaN|                     1.0|    0.705241666422398|  -26.6837841317315|                   NaN|          NaN|                           0|                           20| 33.3333333333333|                        14.0|              Riesgo|             false|   [2.0,0.0,2.0,0.0]|         0|\n",
            "|           47|                 1.0|              0.0|                2.0|                0.0|       1|  99.3638064657472|    90.3100639896531|                              63|            0| -9.11171058972576|                  5|                       NaN|                     2.0|    0.908882894102742|  -9.05374247609416|                   NaN|          NaN|                           0|                           20| 16.6666666666667|            9.00000000000001|              Riesgo|             false|   [1.0,0.0,2.0,0.0]|         0|\n",
            "|           48|                 6.0|              8.0|                2.0|                1.0|       1|  57.5208445551764|    87.4129845191829|                              17|           80|  51.9674914288379|                  4|                       NaN|        1.66666666666667|     1.51967491428838|   29.8921399640065|                   NaN|          NaN|                          80|                           20|            100.0|                        74.0|              Activo|                Si|   [6.0,8.0,2.0,1.0]|         2|\n",
            "|           49|                 1.0|              1.0|                1.0|                0.0|       0|  79.7065357676068|    59.2260509678189|                               9|           10| -25.6948625386267|                  3|                       NaN|                     2.0|    0.743051374613733|  -20.4804847997879|                   NaN|          NaN|                          10|                           10| 16.6666666666667|                        12.0|              Riesgo|             false|   [1.0,1.0,1.0,0.0]|         0|\n",
            "|           50|                 0.1|              2.0|                4.0|                0.0|       1|  69.0445428315511|    60.4674661668355|                              15|           20| -12.4225265502028|                  5|                       NaN|                    60.0|    0.875774734497972|  -8.57707666471556|                   NaN|          NaN|                          20|                           40| 1.66666666666667|                        18.5|              Riesgo|             false|[0.10000000149011...|         0|\n",
            "|           51|                 3.0|              1.0|                0.0|                0.0|       1|  98.4957198907302|    68.5236051395691|                              24|           10| -30.4298651600412|                  8|                       NaN|       0.333333333333333|    0.695701348399588|  -29.9721147511611|                   NaN|          NaN|                          10|                            0|             50.0|                        20.0|              Riesgo|             false|   [3.0,1.0,0.0,0.0]|         0|\n",
            "|           52|                 6.0|              9.0|                3.0|                1.0|       1|  92.1059461567854|    74.2261492595511|                              38|           90| -19.4122069673969|                  4|                       NaN|                     2.0|    0.805877930326031|  -17.8797968972344|                   NaN|          NaN|                          90|                           30|            100.0|                        81.0|              Activo|             false|   [6.0,9.0,3.0,1.0]|         2|\n",
            "|           53|                 0.1|              0.0|                0.0|                0.0|       0|  91.9164352355569|    80.9127385765148|                              35|            0| -11.9714136333101|                  1|                       NaN|                     0.0|    0.880285863666899|  -11.0036966590421|                   NaN|          NaN|                           0|                            0| 1.66666666666667|           0.500000000000001|              Riesgo|             false|(4,[0],[0.1000000...|         0|\n",
            "|           54|                 3.0|              5.0|                4.0|                0.0|       1|  73.4346579897485|    68.4456819784886|                              49|           50| -6.79376216602843|                  7|                       NaN|                     3.0|    0.932062378339716|  -4.98897601125989|                   NaN|          NaN|                          50|                           40|             50.0|                        48.0|              Riesgo|             false|   [3.0,5.0,4.0,0.0]|         1|\n",
            "|           55|                 1.0|              2.0|                3.0|                0.0|       0|  70.7409751168833|    73.1267358066574|                              69|           20|  3.37253011544181|                  8|                       NaN|                     5.0|     1.03372530115442|   2.38576068977413|                   NaN|          NaN|                          20|                           30| 16.6666666666667|                        21.0|              Riesgo|             false|   [1.0,2.0,3.0,0.0]|         0|\n",
            "|           56|                 0.1|              1.0|                4.0|                0.0|       1|  63.6703535965353|    87.3735469066878|                              62|           10|   37.227990691483|                  3|                       NaN|                    50.0|     1.37227990691483|   23.7031933101525|                   NaN|          NaN|                          10|                           40| 1.66666666666667|                        13.5|              Riesgo|             false|[0.10000000149011...|         0|\n",
            "|           57|                 6.0|              8.0|                2.0|                1.0|       1|  52.8187748325464|    51.8341601445299|                              60|           80| -1.86413768804382|                  6|                       NaN|        1.66666666666667|    0.981358623119563| -0.984614688016457|                   NaN|          NaN|                          80|                           20|            100.0|                        74.0|              Activo|             false|   [6.0,8.0,2.0,1.0]|         2|\n",
            "|           58|                 6.0|              9.0|                3.0|                1.0|       0|  93.2361188127527|     62.621847217201|                              50|           90| -32.8352059109568|                  2|                       NaN|                     2.0|    0.671647940890432|  -30.6142715955516|                   NaN|          NaN|                          90|                           30|            100.0|                        81.0|              Activo|             false|   [6.0,9.0,3.0,1.0]|         2|\n",
            "|           59|                 5.0|              5.0|                2.0|                0.0|       0|  90.6450504565039|    85.6674792942276|                               9|           50| -5.49127739154912|                  7|                       NaN|                     1.4|    0.945087226084509|  -4.97757116227626|                   NaN|          NaN|                          50|                           20| 83.3333333333333|                        54.0|              Riesgo|             false|   [5.0,5.0,2.0,0.0]|         1|\n",
            "|           60|                 4.0|              6.0|                0.0|                0.0|       0|  99.9858836643065|      94.76034188436|                              34|           60| -5.22627953911052|                  8|                       NaN|                     1.5|    0.947737204608894|  -5.22554177994655|                   NaN|          NaN|                          60|                            0| 66.6666666666667|                        50.0|              Activo|             false|   [4.0,6.0,0.0,0.0]|         1|\n",
            "|           61|                 2.0|              3.0|                0.0|                0.0|       0|  99.8318418536953|    75.5838721057833|                              35|           30| -24.2888133662281|                  6|                       NaN|                     1.5|     0.75711186633772|  -24.2479697479119|                   NaN|          NaN|                          30|                            0| 33.3333333333333|                        25.0|              Riesgo|             false|   [2.0,3.0,0.0,0.0]|         0|\n",
            "|           62|                 3.0|              2.0|                3.0|                0.0|       0|  77.7715852801314|    76.6056742632658|                               1|           20| -1.49914780914652|                  6|                       NaN|        1.66666666666667|    0.985008521908535|  -1.16591101686559|                   NaN|          NaN|                          20|                           30|             50.0|                        31.0|              Riesgo|             false|   [3.0,2.0,3.0,0.0]|         0|\n",
            "|           63|                 5.0|              7.0|                3.0|                0.0|       1|  88.4493707590255|    55.3586005669888|                              40|           70| -37.4121035662202|                  5|                       NaN|                     2.0|    0.625878964337798|  -33.0907701920367|                   NaN|          NaN|                          70|                           30| 83.3333333333333|                        66.0|              Activo|             false|   [5.0,7.0,3.0,0.0]|         2|\n",
            "|           64|                 2.0|              0.0|                4.0|                0.0|       0|  97.2382864941214|    72.3706183411727|                              64|            0| -25.5739473097894|                  8|                       NaN|                     2.0|    0.744260526902106|  -24.8676681529487|                   NaN|          NaN|                           0|                           40| 33.3333333333333|                        18.0|              Riesgo|             false|   [2.0,0.0,4.0,0.0]|         0|\n",
            "|           65|                 2.0|              2.0|                4.0|                0.0|       1|  92.4823695338706|    76.6308633227512|                              22|           20|   -17.14003035499|                  1|                       NaN|                     3.0|      0.8285996964501|  -15.8515062111194|                   NaN|          NaN|                          20|                           40| 33.3333333333333|                        28.0|              Riesgo|             false|   [2.0,2.0,4.0,0.0]|         0|\n",
            "|           66|                 0.1|              0.0|                2.0|                0.0|       1|  62.3674050871599|    62.1235251817365|                              60|            0|-0.391037441885834|                  4|                       NaN|                    20.0|    0.996089625581142| -0.243879905423398|                   NaN|          NaN|                           0|                           20| 1.66666666666667|                         4.5|              Riesgo|             false|[0.10000000149011...|         0|\n",
            "|           67|                 2.0|              2.0|                3.0|                0.0|       1|  72.5272067655047|    63.4621615474691|                              64|           20| -12.4988202666411|                  4|                       NaN|                     2.5|    0.875011797333589|  -9.06504521803562|                   NaN|          NaN|                          20|                           30| 33.3333333333333|                        26.0|              Riesgo|             false|   [2.0,2.0,3.0,0.0]|         0|\n",
            "|           68|                 4.0|              6.0|                0.0|                0.0|       1|  56.4579707575748|    68.8642081552311|                              11|           60|  21.9742885392171|                  3|                       NaN|                     1.5|     1.21974288539217|   12.4062373976564|                   NaN|          NaN|                          60|                            0| 66.6666666666667|                        50.0|              Activo|             false|   [4.0,6.0,0.0,0.0]|         1|\n",
            "|           69|                 6.0|              6.0|                4.0|                1.0|       0|  97.7025513629361|    51.0035598888863|                              14|           60| -47.7971054211029|                  3|                       NaN|        1.66666666666667|    0.522028945788971|  -46.6989914740498|                   NaN|          NaN|                          60|                           40|            100.0|                        68.0|              Activo|             false|   [6.0,6.0,4.0,1.0]|         2|\n",
            "|           70|                 5.0|              5.0|                4.0|                0.0|       0|   80.308731722544|    66.1039582791589|                              60|           50| -17.6877073497571|                  4|                       NaN|                     1.8|     0.82312292650243|  -14.2047734433851|                   NaN|          NaN|                          50|                           40| 83.3333333333333|                        58.0|              Riesgo|             false|   [5.0,5.0,4.0,0.0]|         1|\n",
            "|           71|                 2.0|              5.0|                0.0|                0.0|       0|  61.4321402751731|    60.5724003498272|                              30|           50| -1.39949531547308|                  1|                       NaN|                     2.5|    0.986005046845269| -0.859739925345906|                   NaN|          NaN|                          50|                            0| 33.3333333333333|                        35.0|              Riesgo|             false|   [2.0,5.0,0.0,0.0]|         1|\n",
            "|           72|                 0.1|              0.0|                4.0|                0.0|       0|  83.5850342202928|    66.3748676088957|                              35|            0| -20.5900096493815|                  2|                       NaN|                    40.0|    0.794099903506185|  -17.2101666113971|                   NaN|          NaN|                           0|                           40| 1.66666666666667|                         8.5|              Riesgo|             false|[0.10000000149011...|         0|\n",
            "|           73|                 4.0|              5.0|                2.0|                0.0|       1|  80.9064120228948|    55.9881065909626|                              37|           50| -30.7989253371919|                  9|                       NaN|                    1.75|    0.692010746628081|  -24.9183054319322|                   NaN|          NaN|                          50|                           20| 66.6666666666667|                        49.0|              Riesgo|             false|   [4.0,5.0,2.0,0.0]|         1|\n",
            "|           74|                 1.0|              0.0|                3.0|                0.0|       0|   67.908135901642|    94.5263640369948|                               5|            0|  39.1974065874914|                  2|                       NaN|                     3.0|     1.39197406587491|   26.6182281353527|                   NaN|          NaN|                           0|                           30| 16.6666666666667|                        11.0|              Riesgo|             false|   [1.0,0.0,3.0,0.0]|         0|\n",
            "|           75|                 6.0|              8.0|                0.0|                1.0|       1|  55.6778796099815|    79.6796226777024|                              26|           80|   43.108220420481|                  5|                       NaN|        1.33333333333333|     1.43108220420481|    24.001743067721|                   NaN|          NaN|                          80|                            0|            100.0|                        70.0|              Activo|                Si|   [6.0,8.0,0.0,1.0]|         2|\n",
            "|           76|                 6.0|              8.0|                3.0|                1.0|       0|    83.57865977964|    83.9551159572245|                              62|           80| 0.450421409696027|                  9|                       NaN|        1.83333333333333|     1.00450421409696|  0.376456177584501|                   NaN|          NaN|                          80|                           30|            100.0|                        76.0|              Activo|                Si|   [6.0,8.0,3.0,1.0]|         2|\n",
            "|           77|                 5.0|              6.0|                4.0|                0.0|       0|  76.0153850451897|    89.4585619303669|                               4|           60|     17.6848106172|                  9|                       NaN|                     2.0|       1.176848106172|   13.4431768851773|                   NaN|          NaN|                          60|                           40| 83.3333333333333|                        63.0|              Activo|             false|   [5.0,6.0,4.0,0.0]|         2|\n",
            "|           78|                 6.0|              7.0|                4.0|                1.0|       0|   88.615919586782|    74.9221099464529|                              42|           70| -15.4529905057507|                  8|                       NaN|        1.83333333333333|    0.845470094942493|  -13.6938096403291|                   NaN|          NaN|                          70|                           40|            100.0|                        73.0|              Activo|             false|   [6.0,7.0,4.0,1.0]|         2|\n",
            "|           79|                 2.0|              1.0|                0.0|                0.0|       0|  76.0081750555997|    54.3460144043712|                              18|           10| -28.4997773402436|                  1|                       NaN|                     0.5|    0.715002226597564|  -21.6621606512285|                   NaN|          NaN|                          10|                            0| 33.3333333333333|                        15.0|              Riesgo|             false|   [2.0,1.0,0.0,0.0]|         0|\n",
            "|           80|                 0.1|              0.0|                2.0|                0.0|       1|   92.609075015927|    76.8553270909274|                              40|            0| -17.0110196244701|                  1|                       NaN|                    20.0|    0.829889803755299|  -15.7537479249996|                   NaN|          NaN|                           0|                           20| 1.66666666666667|                         4.5|              Riesgo|             false|[0.10000000149011...|         0|\n",
            "|           81|                 6.0|              7.0|                1.0|                1.0|       1|  77.5953419387243|     79.342055901044|                              39|           70|  2.25105517764076|                  9|                       NaN|        1.33333333333333|     1.02251055177641|   1.74671396231967|                   NaN|          NaN|                          70|                           10|            100.0|                        67.0|              Activo|                Si|   [6.0,7.0,1.0,1.0]|         2|\n",
            "|           82|                 6.0|              7.0|                0.0|                0.0|       0|  78.0468985767693|    87.2719737092165|                              14|           70|  11.8199125150029|                  8|                       NaN|        1.16666666666667|     1.11819912515003|   9.22507513244719|                   NaN|          NaN|                          70|                            0|            100.0|                        65.0|              Activo|             false|   [6.0,7.0,0.0,0.0]|         2|\n",
            "|           83|                 1.0|              1.0|                1.0|                0.0|       0|  93.8326801329173|     71.582977311484|                              32|           10| -23.7121041303689|                  9|                       NaN|                     2.0|    0.762878958696311|  -22.2497028214333|                   NaN|          NaN|                          10|                           10| 16.6666666666667|                        12.0|              Riesgo|             false|   [1.0,1.0,1.0,0.0]|         0|\n",
            "|           84|                 1.0|              2.0|                1.0|                0.0|       1|  70.1741433106199|    56.3790151397782|                              51|           20| -19.6584204951085|                  7|                       NaN|                     3.0|    0.803415795048915|  -13.7951281708417|                   NaN|          NaN|                          20|                           10| 16.6666666666667|                        17.0|              Riesgo|             false|   [1.0,2.0,1.0,0.0]|         0|\n",
            "|           85|                 3.0|              2.0|                2.0|                0.0|       1|   56.700761422532|    64.1887952899362|                              38|           20|  13.2062315911486|                  3|                       NaN|        1.33333333333333|     1.13206231591149|   7.48803386740418|                   NaN|          NaN|                          20|                           20|             50.0|                        29.0|              Riesgo|             false|   [3.0,2.0,2.0,0.0]|         0|\n",
            "|           86|                 4.0|              5.0|                1.0|                0.0|       1|   51.439133815667|    68.1541148199318|                              23|           50|  32.4946782038812|                  3|                       NaN|                     1.5|     1.32494678203881|   16.7149810042648|                   NaN|          NaN|                          50|                           10| 66.6666666666667|                        47.0|              Riesgo|             false|   [4.0,5.0,1.0,0.0]|         1|\n",
            "|           87|                 2.0|              2.0|                1.0|                0.0|       0|   87.756862783681|    82.2958620665801|                              63|           20| -6.22287595964109|                  2|                       NaN|                     1.5|    0.937771240403589|  -5.46100071710089|                   NaN|          NaN|                          20|                           10| 33.3333333333333|                        22.0|              Riesgo|             false|   [2.0,2.0,1.0,0.0]|         0|\n",
            "|           88|                 6.0|              6.0|                2.0|                0.0|       1|  81.0154775676732|    78.5389152334456|                              15|           60| -3.05690024743592|                  5|                       NaN|        1.33333333333333|     0.96943099752564|  -2.47656233422764|                   NaN|          NaN|                          60|                           20|            100.0|                        64.0|              Activo|             false|   [6.0,6.0,2.0,0.0]|         2|\n",
            "|           89|                 6.0|              5.0|                1.0|                0.0|       0|  85.2039884049612|    67.8048362948923|                              25|           50| -20.4205841015017|                  3|                       NaN|                     1.0|    0.795794158984983|  -17.3991521100689|                   NaN|          NaN|                          50|                           10|            100.0|                        57.0|              Riesgo|             false|   [6.0,5.0,1.0,0.0]|         1|\n",
            "|           90|                 0.1|              0.0|                1.0|                0.0|       0|  60.6482080754455|     99.325762439649|                              17|            0|  63.7736144093312|                  6|                       NaN|                    10.0|     1.63773614409331|   38.6775543642034|                   NaN|          NaN|                           0|                           10| 1.66666666666667|                         2.5|              Riesgo|             false|[0.10000000149011...|         0|\n",
            "|           91|                 3.0|              2.0|                1.0|                0.0|       1|  56.8185737793385|    80.2887409678444|                              66|           20|  41.3072092933114|                  2|                       NaN|                     1.0|     1.41307209293311|   23.4701671885059|                   NaN|          NaN|                          20|                           10|             50.0|                        27.0|              Riesgo|             false|   [3.0,2.0,1.0,0.0]|         0|\n",
            "|           92|                 4.0|              5.0|                0.0|                0.0|       1|  50.7272332833941|    61.8613395867997|                              53|           50|  21.9489721452055|                  3|                       NaN|                    1.25|     1.21948972145206|   11.1341063034056|                   NaN|          NaN|                          50|                            0| 66.6666666666667|                        45.0|              Riesgo|             false|   [4.0,5.0,0.0,0.0]|         1|\n",
            "|           93|                 4.0|              5.0|                0.0|                0.0|       0|  67.5293779403299|    55.0891236310202|                              51|           50| -18.4219886051699|                  5|                       NaN|                    1.25|    0.815780113948301|  -12.4402543093097|                   NaN|          NaN|                          50|                            0| 66.6666666666667|                        45.0|              Riesgo|             false|   [4.0,5.0,0.0,0.0]|         1|\n",
            "|           94|                 5.0|              6.0|                0.0|                0.0|       0|  79.4958843427317|    57.6429569592166|                              39|           60| -27.4893820783228|                  1|                       NaN|                     1.2|    0.725106179216773|  -21.8529273835151|                   NaN|          NaN|                          60|                            0| 83.3333333333333|                        55.0|              Activo|             false|   [5.0,6.0,0.0,0.0]|         1|\n",
            "|           95|                 4.0|              6.0|                2.0|                0.0|       0|  69.6122022549866|    62.2978864192254|                              51|           60|  -10.507232351261|                  1|                       NaN|                     2.0|     0.89492767648739|  -7.31431583576121|                   NaN|          NaN|                          60|                           20| 66.6666666666667|                        54.0|              Activo|             false|   [4.0,6.0,2.0,0.0]|         1|\n",
            "|           96|                 6.0|              9.0|                4.0|                1.0|       0|  71.8737461011865|    58.0340686629778|                              70|           90| -19.2555393157394|                  9|                       NaN|        2.16666666666667|    0.807444606842606|  -13.8396774382087|                   NaN|          NaN|                          90|                           40|            100.0|                        83.0|              Activo|             false|   [6.0,9.0,4.0,1.0]|         2|\n",
            "|           97|                 6.0|              6.0|                1.0|                0.0|       0|  95.2079347246874|    59.3283512025653|                               6|           60| -37.6854971446183|                  7|                       NaN|        1.16666666666667|    0.623145028553817|  -35.8795835221221|                   NaN|          NaN|                          60|                           10|            100.0|                        62.0|              Activo|             false|   [6.0,6.0,1.0,0.0]|         2|\n",
            "|           98|                 4.0|              6.0|                1.0|                0.0|       0|   67.412773351165|    64.2547584346923|                              67|           60| -4.68459426824356|                  1|                       NaN|                    1.75|    0.953154057317565|  -3.15801491647267|                   NaN|          NaN|                          60|                           10| 66.6666666666667|                        52.0|              Activo|             false|   [4.0,6.0,1.0,0.0]|         1|\n",
            "|           99|                 6.0|              9.0|                2.0|                1.0|       0|  75.6994744579905|    58.6686797647377|                               7|           90| -22.4979034731662|                  8|                       NaN|        1.83333333333333|    0.775020965268338|  -17.0307946932528|                   NaN|          NaN|                          90|                           20|            100.0|                        79.0|              Activo|             false|   [6.0,9.0,2.0,1.0]|         2|\n",
            "|          100|                 4.0|              5.0|                2.0|                0.0|       0|  76.6994744579905|    59.6686797647377|                               8|           50| -22.2045780803633|                  9|                       NaN|                    1.75|    0.777954219196367|  -17.0307946932528|                   NaN|          NaN|                          50|                           20| 66.6666666666667|                        49.0|              Riesgo|             false|   [4.0,5.0,2.0,0.0]|         1|\n",
            "+-------------+--------------------+-----------------+-------------------+-------------------+--------+------------------+--------------------+--------------------------------+-------------+------------------+-------------------+--------------------------+------------------------+---------------------+-------------------+----------------------+-------------+----------------------------+-----------------------------+-----------------+----------------------------+--------------------+------------------+--------------------+----------+\n",
            "\n"
          ]
        }
      ]
    },
    {
      "cell_type": "code",
      "source": [
        "# Eliminar la columna 'features' y seleccionar columnas necesarias\n",
        "result_df = predictions.select(\"ID_Estudiante\", \"Conexiones_Semanales\", \"Tareas_Entregadas\", \"Participacion_Foros\", \"Riesgo_Abandono_Cal\", \"prediction\")\n",
        "\n",
        "# Descargar tabla\n",
        "output_path = '/content/drive/MyDrive/TokioSchool/data/predicciones_kmeans.csv'\n",
        "\n",
        "# Guardar las predicciones como CSV\n",
        "result_df.write.mode(\"overwrite\").csv(output_path, header=True)"
      ],
      "metadata": {
        "id": "lWai5q27ZLlK"
      },
      "execution_count": null,
      "outputs": []
    }
  ],
  "metadata": {
    "colab": {
      "provenance": []
    },
    "kernelspec": {
      "display_name": "Python 3",
      "name": "python3"
    },
    "language_info": {
      "name": "python"
    }
  },
  "nbformat": 4,
  "nbformat_minor": 0
}